{
 "cells": [
  {
   "cell_type": "code",
   "execution_count": 1,
   "metadata": {},
   "outputs": [],
   "source": [
    "import datasets\n",
    "import haiku as hk\n",
    "import jax\n",
    "import jax.nn as nn\n",
    "import jax.numpy as jnp\n",
    "import optax"
   ]
  },
  {
   "cell_type": "code",
   "execution_count": 2,
   "metadata": {},
   "outputs": [
    {
     "name": "stderr",
     "output_type": "stream",
     "text": [
      "2022-03-27 19:27:42.398851: E external/org_tensorflow/tensorflow/stream_executor/cuda/cuda_driver.cc:271] failed call to cuInit: CUDA_ERROR_NO_DEVICE: no CUDA-capable device is detected\n"
     ]
    }
   ],
   "source": [
    "seed = 23\n",
    "\n",
    "jax.config.update('jax_platform_name', 'cpu')\n",
    "key = jax.random.PRNGKey(seed)"
   ]
  },
  {
   "cell_type": "code",
   "execution_count": 69,
   "metadata": {},
   "outputs": [
    {
     "name": "stderr",
     "output_type": "stream",
     "text": [
      "WARNING:datasets.builder:Reusing dataset mnist (/home/andylo/.cache/huggingface/datasets/mnist/mnist/1.0.0/fda16c03c4ecfb13f165ba7e29cf38129ce035011519968cdaf74894ce91c9d4)\n",
      "WARNING:datasets.builder:Reusing dataset mnist (/home/andylo/.cache/huggingface/datasets/mnist/mnist/1.0.0/fda16c03c4ecfb13f165ba7e29cf38129ce035011519968cdaf74894ce91c9d4)\n"
     ]
    }
   ],
   "source": [
    "mnist_train = datasets.load_dataset(\"mnist\", split=\"train[:10%]\")\n",
    "mnist_test = datasets.load_dataset(\"mnist\", split=\"test[:10%]\")\n",
    "\n",
    "def preprocess(batch):\n",
    "     return {\n",
    "        \"image\": jnp.array([jnp.array(img, dtype=jnp.float32) for img in batch[\"image\"]]),\n",
    "        \"label\": jnp.array(batch[\"label\"])\n",
    "    }\n",
    "\n",
    "mnist_train.set_transform(preprocess)\n",
    "mnist_test.set_transform(preprocess)\n",
    "\n",
    "num_classes = mnist_train.features[\"label\"].num_classes"
   ]
  },
  {
   "cell_type": "code",
   "execution_count": 70,
   "metadata": {},
   "outputs": [
    {
     "data": {
      "text/plain": [
       "(1, 10)"
      ]
     },
     "execution_count": 70,
     "metadata": {},
     "output_type": "execute_result"
    }
   ],
   "source": [
    "@hk.without_apply_rng\n",
    "@hk.transform\n",
    "def model(batch):\n",
    "    x = batch[\"image\"]\n",
    "    flat = hk.Flatten()\n",
    "    l1 = hk.Linear(100)\n",
    "    l2 = hk.Linear(100)\n",
    "    l3 = hk.Linear(num_classes)\n",
    "\n",
    "    x = flat(x)\n",
    "    x = l1(x)\n",
    "    x = l2(x)\n",
    "    x = l3(x)\n",
    "    return x\n",
    "\n",
    "\n",
    "key, key1 = jax.random.split(key)\n",
    "params = model.init(key1, mnist_train[[0]])\n",
    "\n",
    "y = model.apply(params, mnist_train[[0]])\n",
    "y.shape"
   ]
  },
  {
   "cell_type": "code",
   "execution_count": 26,
   "metadata": {},
   "outputs": [],
   "source": [
    "optimizer = optax.sgd(1e-4)"
   ]
  },
  {
   "cell_type": "code",
   "execution_count": 79,
   "metadata": {},
   "outputs": [],
   "source": [
    "def cross_entropy(y_true, y_pred):\n",
    "    return jnp.sum(-y_true * nn.log_softmax(y_pred), axis=-1)\n",
    "\n",
    "@jax.value_and_grad\n",
    "def loss(params: hk.Params, batch):\n",
    "    y = nn.one_hot(batch[\"label\"], num_classes)\n",
    "    y_pred = model.apply(params, batch)\n",
    "    loss = jnp.mean(cross_entropy(y, y_pred), axis=0)\n",
    "    return loss\n",
    "\n",
    "@jax.jit\n",
    "def step(params: hk.Params, opt_state: optax.OptState, batch):\n",
    "    loss_value, grads = loss(params, batch)\n",
    "    updates, new_opt_state = optimizer.update(grads, opt_state)\n",
    "    new_params = optax.apply_updates(params, updates)\n",
    "    return new_params, new_opt_state, loss_value\n",
    "\n",
    "@jax.jit\n",
    "def accuracy(params: hk.Params, batch):\n",
    "    pred = jnp.argmax(model.apply(params, batch), axis=-1)\n",
    "    return jnp.mean(pred == batch[\"label\"])\n"
   ]
  },
  {
   "cell_type": "code",
   "execution_count": 75,
   "metadata": {},
   "outputs": [],
   "source": [
    "epochs = 5\n",
    "log_every = 100\n",
    "batch_size = 32"
   ]
  },
  {
   "cell_type": "code",
   "execution_count": 76,
   "metadata": {},
   "outputs": [],
   "source": [
    "def batch_dset(batch_size: int, dset: datasets.Dataset):\n",
    "    data = dset.shuffle()\n",
    "    for i in range(0, len(dset), batch_size):\n",
    "        yield data[i: i+batch_size]"
   ]
  },
  {
   "cell_type": "code",
   "execution_count": 80,
   "metadata": {},
   "outputs": [
    {
     "name": "stdout",
     "output_type": "stream",
     "text": [
      "Test accuracy: 0.1484375\n",
      "Test loss: 98.7048568725586\n",
      "Test accuracy: 0.7197265625\n",
      "Test loss: 9.346254348754883\n",
      "Test accuracy: 0.814453125\n",
      "Test loss: 14.27621078491211\n",
      "Test accuracy: 0.7958984375\n",
      "Test loss: 0.7828835248947144\n",
      "Test accuracy: 0.8076171875\n",
      "Test loss: 4.752987861633301\n",
      "Test accuracy: 0.8310546875\n",
      "Test loss: 6.615781784057617\n",
      "Test accuracy: 0.828125\n",
      "Test loss: 1.4483803510665894\n",
      "Test accuracy: 0.8125\n",
      "Test loss: 1.4546937942504883\n",
      "Test accuracy: 0.802734375\n",
      "Test loss: 2.5628137588500977\n",
      "Test accuracy: 0.818359375\n",
      "Test loss: 2.5403683185577393\n"
     ]
    }
   ],
   "source": [
    "key, key1 = jax.random.split(key)\n",
    "params = model.init(key1, mnist_train[:batch_size])\n",
    "opt_state = optimizer.init(params)\n",
    "\n",
    "i = 0\n",
    "for _ in range(epochs):\n",
    "    for batch in batch_dset(batch_size, mnist_train):\n",
    "        params, opt_state, loss_val = step(params, opt_state, batch)\n",
    "\n",
    "        if i % log_every == 0:\n",
    "            accs = []\n",
    "            for test_batch in batch_dset(batch_size, mnist_test):\n",
    "                acc = accuracy(params, test_batch)\n",
    "                accs.append(jax.device_get(acc))\n",
    "            acc = sum(accs) / len(accs)\n",
    "            acc = sum(accs) / len(accs)\n",
    "            print(f\"Test accuracy: {acc}\")\n",
    "            print(f\"Test loss: {loss_val}\")\n",
    "        i += 1\n",
    "\n",
    "\n",
    "\n"
   ]
  },
  {
   "cell_type": "code",
   "execution_count": null,
   "metadata": {},
   "outputs": [],
   "source": []
  }
 ],
 "metadata": {
  "interpreter": {
   "hash": "00c6c86b8c7be37cb3e5c0dfb7990ded94bcf8aee90d034d1149a3043448c03e"
  },
  "kernelspec": {
   "display_name": "Python 3.9.11 64-bit ('haiku')",
   "language": "python",
   "name": "python3"
  },
  "language_info": {
   "codemirror_mode": {
    "name": "ipython",
    "version": 3
   },
   "file_extension": ".py",
   "mimetype": "text/x-python",
   "name": "python",
   "nbconvert_exporter": "python",
   "pygments_lexer": "ipython3",
   "version": "3.9.11"
  },
  "orig_nbformat": 4
 },
 "nbformat": 4,
 "nbformat_minor": 2
}
